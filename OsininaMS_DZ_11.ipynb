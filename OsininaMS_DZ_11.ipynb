{
 "cells": [
  {
   "cell_type": "code",
   "execution_count": null,
   "id": "24d628e8-b878-4cda-86be-43c41c2803d5",
   "metadata": {},
   "outputs": [],
   "source": [
    "#Домашнее задание.\n",
    "# Реализовать прототип консольной программы - проводника, для работы с файлами. \n",
    "# Создать функции создания, удаления, перемещения, копирования(файла, папки) с использованием системы контроля версий git. \n",
    "# Зарегистрироваться на Github и выгрузить с помощью git программу в созданный репозиторий. \n",
    "# Прикрепить ссылку на репозиторий."
   ]
  },
  {
   "cell_type": "code",
   "execution_count": 9,
   "id": "eacbb746-4666-41dc-82a7-441e5daa1a07",
   "metadata": {},
   "outputs": [],
   "source": [
    "import os\n",
    "from tkinter.filedialog import askopenfilename\n",
    "from tkinter.filedialog import askdirectory\n",
    "import shutil"
   ]
  },
  {
   "cell_type": "code",
   "execution_count": 10,
   "id": "6d8aee27-61c1-4f57-a9c8-c4d326716efe",
   "metadata": {},
   "outputs": [],
   "source": [
    "#Создать папку (директорию)\n",
    "def create_dir():\n",
    "    dir_name = input('Введите название папки:')\n",
    "    os.mkdir(dir_name)\n",
    "    print('Папка', dir_name, 'создана')\n",
    "    print()\n",
    "    print_main_menu()\n",
    "    "
   ]
  },
  {
   "cell_type": "code",
   "execution_count": 11,
   "id": "b21c8a13-3240-4264-91f9-b5cf6d74e2fe",
   "metadata": {},
   "outputs": [],
   "source": [
    "#Удалить папку (директорию)\n",
    "def del_dir():\n",
    "    dir_name_del = askdirectory(title='Выберите папку для удаления')\n",
    "    os.rmdir(dir_name_del)\n",
    "    print('Папка', dir_name_del, 'удалена')\n",
    "    print()\n",
    "    print_main_menu()"
   ]
  },
  {
   "cell_type": "code",
   "execution_count": 12,
   "id": "73563d82-b4d9-40dc-8e89-420ebdceb8b1",
   "metadata": {},
   "outputs": [],
   "source": [
    "# Переместить папку\n",
    "def replace_dir():\n",
    "    dir_old = askdirectory(title='Выберите папку, которую необходимо переместить')#что переместить, можно указать просто именем\n",
    "    dir_new =  askdirectory(title='Выберите папку, куда необходимо переместить')# куда переместить, можно указать просто именем\n",
    "    shutil.move(dir_old, dir_new)\n",
    "    print('Папка перемещена', dir_new)\n",
    "    print()\n",
    "    print_main_menu()"
   ]
  },
  {
   "cell_type": "code",
   "execution_count": 13,
   "id": "3ffa677a-be03-4f2d-b4f4-dcc8b5125e15",
   "metadata": {},
   "outputs": [],
   "source": [
    "#Создать файл\n",
    "def new_file():\n",
    "    path_to_folder = os.getcwd()\n",
    "    name_of_new_file = input('Введите имя нового файла: ')\n",
    "    extension_of_new_file = input('Введите расширение нового файла: ')\n",
    "\n",
    "    path_to_new_file = os.path.join(path_to_folder, name_of_new_file + '.' + extension_of_new_file)\n",
    "    open(path_to_new_file, 'a')\n",
    "    print('файл', (name_of_new_file + '.' + extension_of_new_file), 'создан')\n",
    "    print('Полный путь к файлу:', path_to_new_file)\n",
    "    print()\n",
    "    print_main_menu()"
   ]
  },
  {
   "cell_type": "code",
   "execution_count": 14,
   "id": "e6b700b8-73bd-4b4f-bbb4-d3c759f9e727",
   "metadata": {},
   "outputs": [],
   "source": [
    "#Удалить файл\n",
    "def del_file():\n",
    "    file_on_del = askopenfilename(title='Выберите файл, который необходимо удалить')\n",
    "    os.remove(file_on_del)\n",
    "    print('файл', file_on_del, 'удален')\n",
    "    print()\n",
    "    print_main_menu()"
   ]
  },
  {
   "cell_type": "code",
   "execution_count": 15,
   "id": "3fe00d56-c1bb-4b55-91aa-117d1649431f",
   "metadata": {},
   "outputs": [],
   "source": [
    "#Переместить файл\n",
    "def replace_file():\n",
    "    file = askopenfilename(title='Выберите файл, который необходимо переместить')#что переместить, можно указать просто именем\n",
    "    dir =  askdirectory(title='Выберите папку, куда необходимо переместить файл')# куда переместить, можно указать просто именем\n",
    "    shutil.move(file, dir)\n",
    "    print('Файл перемещен в папку', dir)\n",
    "    print()\n",
    "    print_main_menu()\n"
   ]
  },
  {
   "cell_type": "code",
   "execution_count": 16,
   "id": "dfa4c9e6-9d83-47de-b048-d2c51f6a3780",
   "metadata": {},
   "outputs": [],
   "source": [
    "#Копировать файл\n",
    "def copy_file():\n",
    "    file = askopenfilename(title='Выберите файл, который необходимо скопировать')#что скопировать, можно указать просто именем\n",
    "    dir =  askdirectory(title='Выберите папку, куда необходимо скопировать')# куда скопировать, можно указать просто именем (относит путь)\n",
    "    \n",
    "    shutil.copy2(file, dir) # используется только для файлов\n",
    "    print('Файл скопирован в папку', dir)\n",
    "    \n",
    "    print()\n",
    "    print_main_menu()"
   ]
  },
  {
   "cell_type": "code",
   "execution_count": 17,
   "id": "40c32177-336f-42c8-a13a-19252cff44fb",
   "metadata": {},
   "outputs": [],
   "source": [
    "def print_main_menu(): #функция отображения главного меню\n",
    "    while True:\n",
    "        try:\n",
    "            user_choice = input(f'Выберите действие:\\n'\n",
    "                                f'1.Создать папку\\n'\n",
    "                                f'2.Удалить папку\\n'\n",
    "                                f'3.Переместить папку\\n'\n",
    "                                f'4.Создать файл\\n'\n",
    "                                f'5.Удалить файл\\n'\n",
    "                                f'6.Переместить файл\\n'\n",
    "                                f'7.Копировать файл\\n'\n",
    "                                f'0.Завершить работу с программой')\n",
    "            break\n",
    "        except:\n",
    "            pass\n",
    "    match user_choice:\n",
    "        case '1':\n",
    "            print('Вы выбрали Создать папку')\n",
    "            create_dir() \n",
    "        \n",
    "        case '2':\n",
    "            print('Вы выбрали Удалить папку')\n",
    "            del_dir()\n",
    "        \n",
    "        case '3':\n",
    "            print('Вы выбрали Переместить папку')\n",
    "            replace_dir()\n",
    "            \n",
    "        case '4':\n",
    "            print('Вы выбрали Создать файл')\n",
    "            new_file()\n",
    "            \n",
    "        case '5':\n",
    "            print('Вы выбрали Удалить файл')\n",
    "            del_file()\n",
    "            \n",
    "        case '6':\n",
    "            print('Вы выбрали Переместить файл')\n",
    "            replace_file()\n",
    "\n",
    "        case '7':\n",
    "            print('Вы выбрали Копировать файл')\n",
    "            copy_file()\n",
    "    \n",
    "        case '0':\n",
    "            print('Спасибо, программа завершена')\n",
    "            pass\n",
    "    \n",
    "        case _:\n",
    "            print('Выбрано не верное действие')\n",
    "            print_main_menu()"
   ]
  },
  {
   "cell_type": "code",
   "execution_count": 23,
   "id": "34150fbf-221b-4757-9105-e0eefe69839d",
   "metadata": {},
   "outputs": [
    {
     "name": "stdout",
     "output_type": "stream",
     "text": [
      "*********************************************************************************\n",
      "************************ Добро пожаловать в \"Проводник\" *************************\n",
      "*********************************************************************************\n",
      "*****С нами Вы успешно пройдете все маршруты работы с директориями и файлами*****\n",
      "*********************************************************************************\n"
     ]
    },
    {
     "name": "stdin",
     "output_type": "stream",
     "text": [
      "Выберите действие:\n",
      "1.Создать папку\n",
      "2.Удалить папку\n",
      "3.Переместить папку\n",
      "4.Создать файл\n",
      "5.Удалить файл\n",
      "6.Переместить файл\n",
      "7.Копировать файл\n",
      "0.Завершить работу с программой 0\n"
     ]
    },
    {
     "name": "stdout",
     "output_type": "stream",
     "text": [
      "Спасибо, программа завершена\n"
     ]
    }
   ],
   "source": [
    "# СТАРТ РАБОТЫ\n",
    "print('*' * 81)\n",
    "print('*' * 24, 'Добро пожаловать в \"Проводник\"', '*' * 25)\n",
    "print('*' * 81)\n",
    "print('*****С нами Вы успешно пройдете все маршруты работы с директориями и файлами*****')\n",
    "print('*' * 81)\n",
    "print_main_menu ()"
   ]
  },
  {
   "cell_type": "code",
   "execution_count": null,
   "id": "ecd35e8c-be5d-49f2-9a7a-ccbbae381731",
   "metadata": {},
   "outputs": [],
   "source": []
  }
 ],
 "metadata": {
  "kernelspec": {
   "display_name": "Python 3 (ipykernel)",
   "language": "python",
   "name": "python3"
  },
  "language_info": {
   "codemirror_mode": {
    "name": "ipython",
    "version": 3
   },
   "file_extension": ".py",
   "mimetype": "text/x-python",
   "name": "python",
   "nbconvert_exporter": "python",
   "pygments_lexer": "ipython3",
   "version": "3.11.5"
  }
 },
 "nbformat": 4,
 "nbformat_minor": 5
}
